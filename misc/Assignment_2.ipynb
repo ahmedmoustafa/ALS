{
  "nbformat": 4,
  "nbformat_minor": 0,
  "metadata": {
    "kernelspec": {
      "display_name": "R",
      "language": "R",
      "name": "ir"
    },
    "language_info": {
      "codemirror_mode": "r",
      "file_extension": ".r",
      "mimetype": "text/x-r-source",
      "name": "R",
      "pygments_lexer": "r",
      "version": "3.3.1"
    },
    "colab": {
      "provenance": [],
      "collapsed_sections": [],
      "include_colab_link": true
    }
  },
  "cells": [
    {
      "cell_type": "markdown",
      "metadata": {
        "id": "view-in-github",
        "colab_type": "text"
      },
      "source": [
        "<a href=\"https://colab.research.google.com/github/ahmedmoustafa/ALS/blob/main/misc/Assignment_2.ipynb\" target=\"_parent\"><img src=\"https://colab.research.google.com/assets/colab-badge.svg\" alt=\"Open In Colab\"/></a>"
      ]
    },
    {
      "cell_type": "markdown",
      "source": [
        "# Assignment #2"
      ],
      "metadata": {
        "id": "tUm7hiVFkAc6"
      }
    },
    {
      "cell_type": "code",
      "source": [
        "library(tidyverse)"
      ],
      "metadata": {
        "colab": {
          "base_uri": "https://localhost:8080/"
        },
        "id": "a6FcaLtBhoFx",
        "outputId": "649d4b0b-8980-41f5-ccea-583157df7d9b"
      },
      "execution_count": 1,
      "outputs": [
        {
          "output_type": "stream",
          "name": "stderr",
          "text": [
            "Warning message in system(\"timedatectl\", intern = TRUE):\n",
            "“running command 'timedatectl' had status 1”\n",
            "── \u001b[1mAttaching packages\u001b[22m ─────────────────────────────────────── tidyverse 1.3.1 ──\n",
            "\n",
            "\u001b[32m✔\u001b[39m \u001b[34mggplot2\u001b[39m 3.3.6      \u001b[32m✔\u001b[39m \u001b[34mpurrr  \u001b[39m 0.3.4 \n",
            "\u001b[32m✔\u001b[39m \u001b[34mtibble \u001b[39m 3.1.7      \u001b[32m✔\u001b[39m \u001b[34mdplyr  \u001b[39m 1.0.10\n",
            "\u001b[32m✔\u001b[39m \u001b[34mtidyr  \u001b[39m 1.2.1      \u001b[32m✔\u001b[39m \u001b[34mstringr\u001b[39m 1.4.1 \n",
            "\u001b[32m✔\u001b[39m \u001b[34mreadr  \u001b[39m 2.1.2      \u001b[32m✔\u001b[39m \u001b[34mforcats\u001b[39m 0.5.2 \n",
            "\n",
            "── \u001b[1mConflicts\u001b[22m ────────────────────────────────────────── tidyverse_conflicts() ──\n",
            "\u001b[31m✖\u001b[39m \u001b[34mdplyr\u001b[39m::\u001b[32mfilter()\u001b[39m masks \u001b[34mstats\u001b[39m::filter()\n",
            "\u001b[31m✖\u001b[39m \u001b[34mdplyr\u001b[39m::\u001b[32mlag()\u001b[39m    masks \u001b[34mstats\u001b[39m::lag()\n",
            "\n"
          ]
        }
      ]
    },
    {
      "cell_type": "code",
      "source": [
        "x = c(1.17, 2.50, 2.00, 2.33, 1.67, 1.33, 1.17, 2.17, 2.17, 1.33, 2.17, 2.00, 2.17, 1.17, 2.50, 2.00, 1.50, 1.50, 1.00, 2.17, 2.17, 1.67, 2.00, 2.00, 1.33, 2.17, 2.83, 1.50, 2.50, 2.33, 0.33, 2.17, 1.83, 2.00, 2.17, 2.00, 1.00, 2.17, 2.17, 1.33, 2.17, 2.50, 0.83, 1.17, 2.17, 2.50, 2.00, 2.50, 0.50, 1.50, 2.00, 2.00, 2.00, 2.00, 1.17, 1.33, 1.67, 2.17, 1.50, 2.00, 1.67, 0.33, 1.50, 2.17, 2.33, 2.33, 1.17, 0.00, 1.50, 2.33, 1.83, 2.67, 0.83, 1.17, 1.50, 2.17, 2.67, 1.50, 2.00, 2.17, 1.33, 2.00, 2.33, 2.00, 2.17, 2.17, 2.00, 2.17, 2.00, 2.17)\n",
        "x"
      ],
      "metadata": {
        "colab": {
          "base_uri": "https://localhost:8080/",
          "height": 69
        },
        "id": "WeLENxOZMpkm",
        "outputId": "fc310fad-14e1-4255-a084-3c5d53749019"
      },
      "execution_count": 2,
      "outputs": [
        {
          "output_type": "display_data",
          "data": {
            "text/html": [
              "<style>\n",
              ".list-inline {list-style: none; margin:0; padding: 0}\n",
              ".list-inline>li {display: inline-block}\n",
              ".list-inline>li:not(:last-child)::after {content: \"\\00b7\"; padding: 0 .5ex}\n",
              "</style>\n",
              "<ol class=list-inline><li>1.17</li><li>2.5</li><li>2</li><li>2.33</li><li>1.67</li><li>1.33</li><li>1.17</li><li>2.17</li><li>2.17</li><li>1.33</li><li>2.17</li><li>2</li><li>2.17</li><li>1.17</li><li>2.5</li><li>2</li><li>1.5</li><li>1.5</li><li>1</li><li>2.17</li><li>2.17</li><li>1.67</li><li>2</li><li>2</li><li>1.33</li><li>2.17</li><li>2.83</li><li>1.5</li><li>2.5</li><li>2.33</li><li>0.33</li><li>2.17</li><li>1.83</li><li>2</li><li>2.17</li><li>2</li><li>1</li><li>2.17</li><li>2.17</li><li>1.33</li><li>2.17</li><li>2.5</li><li>0.83</li><li>1.17</li><li>2.17</li><li>2.5</li><li>2</li><li>2.5</li><li>0.5</li><li>1.5</li><li>2</li><li>2</li><li>2</li><li>2</li><li>1.17</li><li>1.33</li><li>1.67</li><li>2.17</li><li>1.5</li><li>2</li><li>1.67</li><li>0.33</li><li>1.5</li><li>2.17</li><li>2.33</li><li>2.33</li><li>1.17</li><li>0</li><li>1.5</li><li>2.33</li><li>1.83</li><li>2.67</li><li>0.83</li><li>1.17</li><li>1.5</li><li>2.17</li><li>2.67</li><li>1.5</li><li>2</li><li>2.17</li><li>1.33</li><li>2</li><li>2.33</li><li>2</li><li>2.17</li><li>2.17</li><li>2</li><li>2.17</li><li>2</li><li>2.17</li></ol>\n"
            ],
            "text/markdown": "1. 1.17\n2. 2.5\n3. 2\n4. 2.33\n5. 1.67\n6. 1.33\n7. 1.17\n8. 2.17\n9. 2.17\n10. 1.33\n11. 2.17\n12. 2\n13. 2.17\n14. 1.17\n15. 2.5\n16. 2\n17. 1.5\n18. 1.5\n19. 1\n20. 2.17\n21. 2.17\n22. 1.67\n23. 2\n24. 2\n25. 1.33\n26. 2.17\n27. 2.83\n28. 1.5\n29. 2.5\n30. 2.33\n31. 0.33\n32. 2.17\n33. 1.83\n34. 2\n35. 2.17\n36. 2\n37. 1\n38. 2.17\n39. 2.17\n40. 1.33\n41. 2.17\n42. 2.5\n43. 0.83\n44. 1.17\n45. 2.17\n46. 2.5\n47. 2\n48. 2.5\n49. 0.5\n50. 1.5\n51. 2\n52. 2\n53. 2\n54. 2\n55. 1.17\n56. 1.33\n57. 1.67\n58. 2.17\n59. 1.5\n60. 2\n61. 1.67\n62. 0.33\n63. 1.5\n64. 2.17\n65. 2.33\n66. 2.33\n67. 1.17\n68. 0\n69. 1.5\n70. 2.33\n71. 1.83\n72. 2.67\n73. 0.83\n74. 1.17\n75. 1.5\n76. 2.17\n77. 2.67\n78. 1.5\n79. 2\n80. 2.17\n81. 1.33\n82. 2\n83. 2.33\n84. 2\n85. 2.17\n86. 2.17\n87. 2\n88. 2.17\n89. 2\n90. 2.17\n\n\n",
            "text/latex": "\\begin{enumerate*}\n\\item 1.17\n\\item 2.5\n\\item 2\n\\item 2.33\n\\item 1.67\n\\item 1.33\n\\item 1.17\n\\item 2.17\n\\item 2.17\n\\item 1.33\n\\item 2.17\n\\item 2\n\\item 2.17\n\\item 1.17\n\\item 2.5\n\\item 2\n\\item 1.5\n\\item 1.5\n\\item 1\n\\item 2.17\n\\item 2.17\n\\item 1.67\n\\item 2\n\\item 2\n\\item 1.33\n\\item 2.17\n\\item 2.83\n\\item 1.5\n\\item 2.5\n\\item 2.33\n\\item 0.33\n\\item 2.17\n\\item 1.83\n\\item 2\n\\item 2.17\n\\item 2\n\\item 1\n\\item 2.17\n\\item 2.17\n\\item 1.33\n\\item 2.17\n\\item 2.5\n\\item 0.83\n\\item 1.17\n\\item 2.17\n\\item 2.5\n\\item 2\n\\item 2.5\n\\item 0.5\n\\item 1.5\n\\item 2\n\\item 2\n\\item 2\n\\item 2\n\\item 1.17\n\\item 1.33\n\\item 1.67\n\\item 2.17\n\\item 1.5\n\\item 2\n\\item 1.67\n\\item 0.33\n\\item 1.5\n\\item 2.17\n\\item 2.33\n\\item 2.33\n\\item 1.17\n\\item 0\n\\item 1.5\n\\item 2.33\n\\item 1.83\n\\item 2.67\n\\item 0.83\n\\item 1.17\n\\item 1.5\n\\item 2.17\n\\item 2.67\n\\item 1.5\n\\item 2\n\\item 2.17\n\\item 1.33\n\\item 2\n\\item 2.33\n\\item 2\n\\item 2.17\n\\item 2.17\n\\item 2\n\\item 2.17\n\\item 2\n\\item 2.17\n\\end{enumerate*}\n",
            "text/plain": [
              " [1] 1.17 2.50 2.00 2.33 1.67 1.33 1.17 2.17 2.17 1.33 2.17 2.00 2.17 1.17 2.50\n",
              "[16] 2.00 1.50 1.50 1.00 2.17 2.17 1.67 2.00 2.00 1.33 2.17 2.83 1.50 2.50 2.33\n",
              "[31] 0.33 2.17 1.83 2.00 2.17 2.00 1.00 2.17 2.17 1.33 2.17 2.50 0.83 1.17 2.17\n",
              "[46] 2.50 2.00 2.50 0.50 1.50 2.00 2.00 2.00 2.00 1.17 1.33 1.67 2.17 1.50 2.00\n",
              "[61] 1.67 0.33 1.50 2.17 2.33 2.33 1.17 0.00 1.50 2.33 1.83 2.67 0.83 1.17 1.50\n",
              "[76] 2.17 2.67 1.50 2.00 2.17 1.33 2.00 2.33 2.00 2.17 2.17 2.00 2.17 2.00 2.17"
            ]
          },
          "metadata": {}
        }
      ]
    },
    {
      "cell_type": "code",
      "source": [
        "n = length(x)\n",
        "n"
      ],
      "metadata": {
        "colab": {
          "base_uri": "https://localhost:8080/",
          "height": 34
        },
        "id": "-yzV57Dyhwsl",
        "outputId": "8151934f-c4e6-4fb5-dccb-ea5290d042ff"
      },
      "execution_count": 3,
      "outputs": [
        {
          "output_type": "display_data",
          "data": {
            "text/html": [
              "90"
            ],
            "text/markdown": "90",
            "text/latex": "90",
            "text/plain": [
              "[1] 90"
            ]
          },
          "metadata": {}
        }
      ]
    },
    {
      "cell_type": "code",
      "source": [
        "hist(x)"
      ],
      "metadata": {
        "colab": {
          "base_uri": "https://localhost:8080/",
          "height": 437
        },
        "id": "A8ytxwWBhyLx",
        "outputId": "fe010de2-c821-45d8-c95e-ab282ca97061"
      },
      "execution_count": 4,
      "outputs": [
        {
          "output_type": "display_data",
          "data": {
            "text/plain": [
              "Plot with title “Histogram of x”"
            ],
            "image/png": "[encoded data removed]"
          },
          "metadata": {
            "image/png": {
              "width": 420,
              "height": 420
            }
          }
        }
      ]
    },
    {
      "cell_type": "code",
      "source": [
        "t1 = data.frame(table(cut (x, breaks = seq(0,3,0.5))))\n",
        "t1"
      ],
      "metadata": {
        "colab": {
          "base_uri": "https://localhost:8080/",
          "height": 304
        },
        "id": "Tm905V3qh0ej",
        "outputId": "21199fd1-3546-4ca6-f804-54fa8b993974"
      },
      "execution_count": 5,
      "outputs": [
        {
          "output_type": "display_data",
          "data": {
            "text/html": [
              "<table class=\"dataframe\">\n",
              "<caption>A data.frame: 6 × 2</caption>\n",
              "<thead>\n",
              "\t<tr><th scope=col>Var1</th><th scope=col>Freq</th></tr>\n",
              "\t<tr><th scope=col>&lt;fct&gt;</th><th scope=col>&lt;int&gt;</th></tr>\n",
              "</thead>\n",
              "<tbody>\n",
              "\t<tr><td>(0,0.5]</td><td> 3</td></tr>\n",
              "\t<tr><td>(0.5,1]</td><td> 4</td></tr>\n",
              "\t<tr><td>(1,1.5]</td><td>22</td></tr>\n",
              "\t<tr><td>(1.5,2]</td><td>24</td></tr>\n",
              "\t<tr><td>(2,2.5]</td><td>33</td></tr>\n",
              "\t<tr><td>(2.5,3]</td><td> 3</td></tr>\n",
              "</tbody>\n",
              "</table>\n"
            ],
            "text/markdown": "\nA data.frame: 6 × 2\n\n| Var1 &lt;fct&gt; | Freq &lt;int&gt; |\n|---|---|\n| (0,0.5] |  3 |\n| (0.5,1] |  4 |\n| (1,1.5] | 22 |\n| (1.5,2] | 24 |\n| (2,2.5] | 33 |\n| (2.5,3] |  3 |\n\n",
            "text/latex": "A data.frame: 6 × 2\n\\begin{tabular}{ll}\n Var1 & Freq\\\\\n <fct> & <int>\\\\\n\\hline\n\t (0,0.5{]} &  3\\\\\n\t (0.5,1{]} &  4\\\\\n\t (1,1.5{]} & 22\\\\\n\t (1.5,2{]} & 24\\\\\n\t (2,2.5{]} & 33\\\\\n\t (2.5,3{]} &  3\\\\\n\\end{tabular}\n",
            "text/plain": [
              "  Var1    Freq\n",
              "1 (0,0.5]  3  \n",
              "2 (0.5,1]  4  \n",
              "3 (1,1.5] 22  \n",
              "4 (1.5,2] 24  \n",
              "5 (2,2.5] 33  \n",
              "6 (2.5,3]  3  "
            ]
          },
          "metadata": {}
        }
      ]
    },
    {
      "cell_type": "code",
      "source": [
        "t2 = t1 %>% rename (Interval = Var1) %>% mutate (Relative = Freq / n)\n",
        "t2"
      ],
      "metadata": {
        "colab": {
          "base_uri": "https://localhost:8080/",
          "height": 286
        },
        "id": "g280xlmMh8NY",
        "outputId": "cbfea1b4-05c0-42bc-aa18-4e9934a8b610"
      },
      "execution_count": 6,
      "outputs": [
        {
          "output_type": "display_data",
          "data": {
            "text/html": [
              "<table class=\"dataframe\">\n",
              "<caption>A data.frame: 6 × 3</caption>\n",
              "<thead>\n",
              "\t<tr><th scope=col>Interval</th><th scope=col>Freq</th><th scope=col>Relative</th></tr>\n",
              "\t<tr><th scope=col>&lt;fct&gt;</th><th scope=col>&lt;int&gt;</th><th scope=col>&lt;dbl&gt;</th></tr>\n",
              "</thead>\n",
              "<tbody>\n",
              "\t<tr><td>(0,0.5]</td><td> 3</td><td>0.03333333</td></tr>\n",
              "\t<tr><td>(0.5,1]</td><td> 4</td><td>0.04444444</td></tr>\n",
              "\t<tr><td>(1,1.5]</td><td>22</td><td>0.24444444</td></tr>\n",
              "\t<tr><td>(1.5,2]</td><td>24</td><td>0.26666667</td></tr>\n",
              "\t<tr><td>(2,2.5]</td><td>33</td><td>0.36666667</td></tr>\n",
              "\t<tr><td>(2.5,3]</td><td> 3</td><td>0.03333333</td></tr>\n",
              "</tbody>\n",
              "</table>\n"
            ],
            "text/markdown": "\nA data.frame: 6 × 3\n\n| Interval &lt;fct&gt; | Freq &lt;int&gt; | Relative &lt;dbl&gt; |\n|---|---|---|\n| (0,0.5] |  3 | 0.03333333 |\n| (0.5,1] |  4 | 0.04444444 |\n| (1,1.5] | 22 | 0.24444444 |\n| (1.5,2] | 24 | 0.26666667 |\n| (2,2.5] | 33 | 0.36666667 |\n| (2.5,3] |  3 | 0.03333333 |\n\n",
            "text/latex": "A data.frame: 6 × 3\n\\begin{tabular}{lll}\n Interval & Freq & Relative\\\\\n <fct> & <int> & <dbl>\\\\\n\\hline\n\t (0,0.5{]} &  3 & 0.03333333\\\\\n\t (0.5,1{]} &  4 & 0.04444444\\\\\n\t (1,1.5{]} & 22 & 0.24444444\\\\\n\t (1.5,2{]} & 24 & 0.26666667\\\\\n\t (2,2.5{]} & 33 & 0.36666667\\\\\n\t (2.5,3{]} &  3 & 0.03333333\\\\\n\\end{tabular}\n",
            "text/plain": [
              "  Interval Freq Relative  \n",
              "1 (0,0.5]   3   0.03333333\n",
              "2 (0.5,1]   4   0.04444444\n",
              "3 (1,1.5]  22   0.24444444\n",
              "4 (1.5,2]  24   0.26666667\n",
              "5 (2,2.5]  33   0.36666667\n",
              "6 (2.5,3]   3   0.03333333"
            ]
          },
          "metadata": {}
        }
      ]
    },
    {
      "cell_type": "code",
      "source": [
        "ggplot(t2) + geom_bar(aes(x = Interval, y = Relative), stat = \"identity\")"
      ],
      "metadata": {
        "colab": {
          "base_uri": "https://localhost:8080/",
          "height": 437
        },
        "id": "_yC29Tf_jks-",
        "outputId": "cccf6f4e-ace7-49c7-982c-086baa3812b4"
      },
      "execution_count": 7,
      "outputs": [
        {
          "output_type": "display_data",
          "data": {
            "text/plain": [
              "plot without title"
            ],
            "image/png": "[encoded data removed]"
          },
          "metadata": {
            "image/png": {
              "width": 420,
              "height": 420
            }
          }
        }
      ]
    }
  ]
}